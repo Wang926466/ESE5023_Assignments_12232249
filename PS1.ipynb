{
 "cells": [
  {
   "cell_type": "code",
   "execution_count": 1,
   "id": "60245c8e",
   "metadata": {},
   "outputs": [
    {
     "name": "stdout",
     "output_type": "stream",
     "text": [
      "[x,y,z]: [10, 5, 1] \n",
      " x+y-10*z: 5\n"
     ]
    }
   ],
   "source": [
    "def Print_values(a,b,c):    \n",
    "    if (a>b):\n",
    "        if (b>c):\n",
    "            x,y,z=a,b,c\n",
    "        elif (a>c):\n",
    "            x,y,z=a,c,b\n",
    "        else:\n",
    "            x,y,z=c,a,b\n",
    "    elif (b>c):\n",
    "        if (a>c):\n",
    "            x,y,z=a,c,b\n",
    "        else:\n",
    "            x,y,z=c,a,b\n",
    "    else:\n",
    "        x,y,z=c,b,a\n",
    "    print('[x,y,z]:',[x,y,z],'\\n','x+y-10*z:',x+y-10*z)\n",
    "Print_values(10,5,1)"
   ]
  },
  {
   "cell_type": "code",
   "execution_count": 2,
   "id": "5674669d",
   "metadata": {},
   "outputs": [
    {
     "name": "stdout",
     "output_type": "stream",
     "text": [
      "验证F（5）： 15\n"
     ]
    }
   ],
   "source": [
    "def Fun(x):\n",
    "    import math\n",
    "    xx=[x]\n",
    "    F=[1]\n",
    "    n=0\n",
    "    #将x迭代需要算的F得到即xx\n",
    "    while x>3:\n",
    "        x=math.ceil(x/3)  \n",
    "        xx.append(x)\n",
    "    #从xx最小开始往上迭代得到最后结果\n",
    "    for j in reversed(xx):\n",
    "        F.append(F[n]+2*j)\n",
    "        n=n+1\n",
    "    return F[n]\n",
    "#验证\n",
    "print('验证F（5）：',Fun(5))"
   ]
  },
  {
   "cell_type": "code",
   "execution_count": 3,
   "id": "13487a05",
   "metadata": {},
   "outputs": [
    {
     "name": "stdout",
     "output_type": "stream",
     "text": [
      "the number of ways to get sum x: 2930455 \n",
      " Number_of_ways: [1, 10, 55, 220, 715, 2002, 4995, 11340, 23760, 46420, 85228, 147940, 243925, 383470, 576565, 831204, 1151370, 1535040, 1972630, 2446300, 2930455, 3393610, 3801535, 4121260, 4325310, 4395456, 4325310, 4121260, 3801535, 3393610, 2930455, 2446300, 1972630, 1535040, 1151370, 831204, 576565, 383470, 243925, 147940, 85228, 46420, 23760, 11340, 4995, 2002, 715, 220, 55, 10, 1] \n",
      " The x yields the maximum of Number_of_ways: 35\n"
     ]
    }
   ],
   "source": [
    "#本函数存储空间小（最大数组仅52个整数即最终3.2需要的列表），计算速度较快（一点就出全部所需数据，可针对更多骰子，无需遍历具体排列情况），为数学计算方法\n",
    "def Find_number_of_ways(x):\n",
    "    import math\n",
    "    import numpy as np\n",
    "    #先定义了两个骰子时候10-20的对应的方法数\n",
    "    f=np.array([0,1,2,3,4,5,6,5,4,3,2,1])\n",
    "    #用fun与f不断交替存储不同骰子对应方法数\n",
    "    fun=np.array([0])\n",
    "    #添加骰子数\n",
    "    for i in range(3,11):\n",
    "        #骰子和的情况为骰子数*1-骰子数*6，对中心对称，因此只需要算一半后对称得到全部\n",
    "        for j in range(1,math.floor(3.5*i)-i+2):\n",
    "            if j<6:\n",
    "                fun=np.append(fun,sum(f[1:j+1]))\n",
    "            else:\n",
    "                fun=np.append(fun,sum(f[j-5:j+1]))\n",
    "        #最高数有可能对应1个或者两个，进行分情况\n",
    "        if i%2==0:\n",
    "             fun1=np.delete(fun,[-1])\n",
    "        else:\n",
    "             fun1=fun\n",
    "        fun=np.append(fun,np.flip(fun1))\n",
    "        f=fun\n",
    "        fun=np.array([0])\n",
    "    f=np.delete(f,[0,-1])\n",
    "    print(\"the number of ways to get sum x:\",f[x-10],'\\n',\"Number_of_ways:\",f.tolist(),'\\n',\"The x yields the maximum of Number_of_ways:\",np.argmax(f)+10)\n",
    "#输入总数和x，得到第一个为对于方法数，第二个为10-60的各个情况，第三个是最高数对应的骰子和\n",
    "Find_number_of_ways(30)"
   ]
  },
  {
   "cell_type": "code",
   "execution_count": 4,
   "id": "7f690ebd",
   "metadata": {},
   "outputs": [
    {
     "name": "stdout",
     "output_type": "stream",
     "text": [
      "验证[1，2，3]： 14.0\n"
     ]
    },
    {
     "data": {
      "text/plain": [
       "[<matplotlib.lines.Line2D at 0x20b16ad2460>]"
      ]
     },
     "execution_count": 4,
     "metadata": {},
     "output_type": "execute_result"
    },
    {
     "data": {
      "image/png": "[encoded data removed]",
      "text/plain": [
       "<Figure size 432x288 with 1 Axes>"
      ]
     },
     "metadata": {
      "needs_background": "light"
     },
     "output_type": "display_data"
    }
   ],
   "source": [
    "import math\n",
    "import numpy as np\n",
    "import matplotlib.pyplot as plt\n",
    "#problem4.1\n",
    "def Random_integer(N):\n",
    "    return(np.random.randint(0,10,N))\n",
    "\n",
    "#problem4.2\n",
    "def ssum(x):\n",
    "    val1=0\n",
    "    #先算所有单个数的子集平均值和即自己的和\n",
    "    val=sum(x)\n",
    "    #针对不同元素个数的子集进行（不包括个数为1）\n",
    "    for j in range(1,len(x)):\n",
    "        #下面几步是对j+1个元素平均的情况，每个元素都会出现m次\n",
    "        val1=sum(x)/(j+1)\n",
    "        m=math.factorial(len(x)-1)/math.factorial(len(x)-1-j)/math.factorial(j)\n",
    "        val1=val1*m\n",
    "        val=val1+val\n",
    "    return(val)\n",
    "#4.2的验证\n",
    "print('验证[1，2，3]：',ssum([1,2,3]))\n",
    "\n",
    "#problem4.3\n",
    "y=np.zeros(100)\n",
    "n=np.zeros(100)\n",
    "for N in range(100):\n",
    "    x=Random_integer(N+1)\n",
    "    y[N]=ssum(x)\n",
    "    n[N]=N+1\n",
    "plt.plot(n,y)"
   ]
  },
  {
   "cell_type": "code",
   "execution_count": 5,
   "id": "d1370e16",
   "metadata": {},
   "outputs": [
    {
     "name": "stdout",
     "output_type": "stream",
     "text": [
      "验证生成5*5矩阵： [[1 0 1 0 1]\n",
      " [0 0 0 0 1]\n",
      " [0 0 1 1 1]\n",
      " [0 0 0 0 1]\n",
      " [0 0 0 1 1]]\n",
      "验证5.2函数可行为3： 3\n",
      "1000次均值： 0.226\n"
     ]
    }
   ],
   "source": [
    "import numpy as np\n",
    "#problem5.1\n",
    "def creat(N,M):\n",
    "    x=np.random.randint(0,2,size=(N,M))\n",
    "    x[0][0]=1\n",
    "    x[N-1][M-1]=1\n",
    "    return(x)\n",
    "#验证\n",
    "print('验证生成5*5矩阵：',creat(5,5))\n",
    "\n",
    "#problem5.2\n",
    "def Count_path(x):\n",
    "    #出发点坐标为（0，0），后面不断更新坐标\n",
    "    xy=np.array([[0,0],[0,0]])\n",
    "    xy1=np.array([[0,0]])\n",
    "    N=x.shape[0]\n",
    "    M=x.shape[1]\n",
    "    #从左上角到右下角必定走行数-1加列数-1\n",
    "    for j in range(N+M-2):\n",
    "        #遍历第j+1步的点\n",
    "        for i in range(xy.shape[0]-1):\n",
    "            i=i+1\n",
    "            #如果该点对应的是1则说明这条路可能可以走故保存它的右侧及下侧点坐标\n",
    "            if x[int(xy[i,0]),int(xy[i,1])]==1:\n",
    "                #判断是否超出最右边和最下边\n",
    "                if xy[i,0]+1<N:\n",
    "                    xy1=np.append(xy1,[[xy[i,0]+1,xy[i,1]]],axis=0)\n",
    "                if xy[i,1]+1<M:\n",
    "                    xy1=np.append(xy1,[[xy[i,0],xy[i,1]+1]],axis=0)            \n",
    "        xy=xy1\n",
    "        xy1=np.array([[0,0]])\n",
    "    return(xy.shape[0]-1)\n",
    "#验证\n",
    "x=np.array([[1,0,0,1,0],[1,1,1,1,1],[1,0,1,1,1],[1,0,0,0,1],[0,1,0,1,1]])\n",
    "print('验证5.2函数可行为3：',Count_path(x))\n",
    "\n",
    "#problem5.3\n",
    "val=0\n",
    "for i in range(1000):\n",
    "    #创建矩阵\n",
    "    x=creat(10,8)\n",
    "    #求矩阵满足要求的路径和\n",
    "    val=Count_path(x)+val\n",
    "print('1000次均值：',val/1000)"
   ]
  },
  {
   "cell_type": "code",
   "execution_count": null,
   "id": "ed866dde",
   "metadata": {},
   "outputs": [],
   "source": []
  }
 ],
 "metadata": {
  "kernelspec": {
   "display_name": "Python 3 (ipykernel)",
   "language": "python",
   "name": "python3"
  },
  "language_info": {
   "codemirror_mode": {
    "name": "ipython",
    "version": 3
   },
   "file_extension": ".py",
   "mimetype": "text/x-python",
   "name": "python",
   "nbconvert_exporter": "python",
   "pygments_lexer": "ipython3",
   "version": "3.9.12"
  }
 },
 "nbformat": 4,
 "nbformat_minor": 5
}
