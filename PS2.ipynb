{
 "cells": [
  {
   "cell_type": "code",
   "execution_count": 4,
   "id": "edc22973",
   "metadata": {},
   "outputs": [
    {
     "name": "stdout",
     "output_type": "stream",
     "text": [
      "         Country     Deaths\n",
      "1          CHINA  2075019.0\n",
      "2         TURKEY  1134569.0\n",
      "3           IRAN  1011446.0\n",
      "4          ITALY   498477.0\n",
      "5          SYRIA   439224.0\n",
      "6          HAITI   323474.0\n",
      "7     AZERBAIJAN   317219.0\n",
      "8          JAPAN   278142.0\n",
      "9        ARMENIA   191890.0\n",
      "10      PAKISTAN   145083.0\n",
      "11          IRAQ   136200.0\n",
      "12       ECUADOR   135479.0\n",
      "13  TURKMENISTAN   117412.0\n",
      "14          PERU   102219.0\n",
      "15        ISRAEL    90388.0\n",
      "16      PORTUGAL    83531.0\n",
      "17        GREECE    79174.0\n",
      "18         CHILE    64276.0\n",
      "19         INDIA    63491.0\n",
      "20        TAIWAN    57135.0\n"
     ]
    }
   ],
   "source": [
    "# problem1.1\n",
    "import pandas as pd\n",
    "import numpy as np\n",
    "from matplotlib import pyplot as plt\n",
    "#读取数据\n",
    "Sig_Eqs = pd.read_csv('earthquakes-2022-10-25_11-30-06_+0800.tsv',sep='\\t')\n",
    "#将数据按country分类后求death总数后排序\n",
    "Sig1=Sig_Eqs.groupby(['Country']).sum()['Deaths'].reset_index().sort_values('Deaths',ascending=False).reset_index(drop=True)\n",
    "#序号从1开始重新标号\n",
    "Sig1.index=Sig1.index+1\n",
    "#输出最大的20个\n",
    "print(Sig1.head(20))"
   ]
  },
  {
   "cell_type": "code",
   "execution_count": 5,
   "id": "1a16ed0a",
   "metadata": {},
   "outputs": [
    {
     "data": {
      "text/plain": [
       "<AxesSubplot:xlabel='Year'>"
      ]
     },
     "execution_count": 5,
     "metadata": {},
     "output_type": "execute_result"
    },
    {
     "data": {
      "image/png": "[encoded data removed]",
      "text/plain": [
       "<Figure size 432x288 with 1 Axes>"
      ]
     },
     "metadata": {
      "needs_background": "light"
     },
     "output_type": "display_data"
    }
   ],
   "source": [
    "#problem1.2\n",
    "#将Ms大于3.0的赋值n=1，最后求和\n",
    "Sig_Eqs.loc['n']=0\n",
    "Sig_Eqs.loc[Sig_Eqs['Ms']>3.0,'n']=1\n",
    "Sig_Eqs.groupby(['Year']).sum()['n'].plot()\n",
    "#年份早期Ms大于3.0的地震记录较少，没有什么趋势，中后期随着时间推移大于Ms3.0的个数波动幅度增大，且顶峰不断上升。"
   ]
  },
  {
   "cell_type": "code",
   "execution_count": 6,
   "id": "d869bda3",
   "metadata": {},
   "outputs": [
    {
     "name": "stdout",
     "output_type": "stream",
     "text": [
      "       Country  the total number of earthquakes  \\\n",
      "0        CHINA                              616   \n",
      "1        JAPAN                              411   \n",
      "2        JAPAN                              411   \n",
      "3    INDONESIA                              405   \n",
      "4         IRAN                              384   \n",
      "..         ...                              ...   \n",
      "229  SRI LANKA                                1   \n",
      "230    URUGUAY                                1   \n",
      "231    BELGIUM                                1   \n",
      "232      SUDAN                                1   \n",
      "233     ZAMBIA                                1   \n",
      "\n",
      "                                   Location Name    Year    Mo    Dy    Hr  \n",
      "0        CHINA:  GANSU PROVINCE, SHANXI PROVINCE  1920.0  12.0  16.0  12.0  \n",
      "1                                JAPAN:  SANRIKU   869.0   7.0  13.0   NaN  \n",
      "2                               JAPAN:  NANKAIDO   887.0   8.0  26.0   NaN  \n",
      "3    INDONESIA:  SUMATRA:  ACEH:  OFF WEST COAST  2004.0  12.0  26.0   0.0  \n",
      "4                          IRAN:  DAMGHAN, QUMIS   856.0  12.0  22.0   NaN  \n",
      "..                                           ...     ...   ...   ...   ...  \n",
      "229                      SRI LANKA:  TRINCOMALEE  1882.0   1.0   NaN   NaN  \n",
      "230                            URUGUAY:  COLOGNE  1888.0   6.0   5.0   NaN  \n",
      "231                                      BELGIUM  1983.0  11.0   8.0   0.0  \n",
      "232                             SUDAN:  KHARTOUM  1993.0   8.0   1.0   0.0  \n",
      "233                              ZAMBIA:  KAPUTA  2017.0   2.0  24.0   0.0  \n",
      "\n",
      "[234 rows x 7 columns]\n"
     ]
    },
    {
     "name": "stderr",
     "output_type": "stream",
     "text": [
      "C:\\Users\\19693\\AppData\\Local\\Temp\\ipykernel_28364\\3179450281.py:9: FutureWarning: Dropping invalid columns in DataFrameGroupBy.max is deprecated. In a future version, a TypeError will be raised. Before calling .max, select only columns which should be valid for the function.\n",
      "  Sig3=Sig_Eqs0.groupby(['Country']).max()['Ms'].reset_index()\n"
     ]
    }
   ],
   "source": [
    "#problem1.3\n",
    "#读取文件数据\n",
    "Sig_Eqs0 = pd.read_csv('earthquakes-2022-10-25_11-30-06_+0800.tsv',sep='\\t')\n",
    "#定义求总地震数目的列为1\n",
    "Sig_Eqs0['the total number of earthquakes']=1\n",
    "#求出各个country的地震总数\n",
    "Sig2=Sig_Eqs0.groupby(['Country']).sum()['the total number of earthquakes'].reset_index()\n",
    "#求出各个国家的地震最大Ms\n",
    "Sig3=Sig_Eqs0.groupby(['Country']).max()['Ms'].reset_index()\n",
    "#通过链接得到最大Ms所对应的时间及地点\n",
    "Sig4=pd.merge(Sig3,Sig_Eqs0)[['Country','Location Name','Year','Mo','Dy','Hr']]\n",
    "#将各个国家的地震总数和最大Ms对应的相关数据通过国家链接在一起，sig6其实就是下一步要求的结果\n",
    "Sig6=pd.merge(Sig2,Sig4).sort_values('the total number of earthquakes',ascending=False)\n",
    "#函数如下，按输入国家找到Sig6中数据输出即所求结果\n",
    "def CountEq_LargestEq(x):\n",
    "    return(Sig6[Sig6['Country']==x])\n",
    "#将函数应用于全部国家，先求一个便于保证格式\n",
    "C=CountEq_LargestEq('CHINA')\n",
    "#得到国家列表\n",
    "A=list(Sig1['Country'])\n",
    "#遍历国家列表返回函数结果\n",
    "for i in A[1:]:\n",
    "    C=pd.concat([C,CountEq_LargestEq(i)])\n",
    "print(C.sort_values('the total number of earthquakes',ascending=False).reset_index(drop=True))"
   ]
  },
  {
   "cell_type": "code",
   "execution_count": 4,
   "id": "a3559e34",
   "metadata": {},
   "outputs": [
    {
     "name": "stderr",
     "output_type": "stream",
     "text": [
      "C:\\Users\\19693\\AppData\\Local\\Temp\\ipykernel_85960\\2611724721.py:6: DtypeWarning: Columns (4,8,9,10,11,14,15,24,25,27,29,31,34,37,38,40,41,45,49,50) have mixed types. Specify dtype option on import or set low_memory=False.\n",
      "  Baoan_Weather = pd.read_csv('Baoan_Weather_1998_2022.csv')\n",
      "C:\\Users\\19693\\AppData\\Local\\Temp\\ipykernel_85960\\2611724721.py:10: SettingWithCopyWarning: \n",
      "A value is trying to be set on a copy of a slice from a DataFrame.\n",
      "Try using .loc[row_indexer,col_indexer] = value instead\n",
      "\n",
      "See the caveats in the documentation: https://pandas.pydata.org/pandas-docs/stable/user_guide/indexing.html#returning-a-view-versus-a-copy\n",
      "  Baoan_Weather1['DATE']=pd.to_datetime(Baoan_Weather1['DATE'],format='%Y/%m/%d %H:%M:%S',errors='coerce')\n",
      "C:\\Users\\19693\\AppData\\Local\\Temp\\ipykernel_85960\\2611724721.py:11: SettingWithCopyWarning: \n",
      "A value is trying to be set on a copy of a slice from a DataFrame.\n",
      "Try using .loc[row_indexer,col_indexer] = value instead\n",
      "\n",
      "See the caveats in the documentation: https://pandas.pydata.org/pandas-docs/stable/user_guide/indexing.html#returning-a-view-versus-a-copy\n",
      "  Baoan_Weather1['Year']=Baoan_Weather1['DATE'].dt.year\n",
      "C:\\Users\\19693\\AppData\\Local\\Temp\\ipykernel_85960\\2611724721.py:12: SettingWithCopyWarning: \n",
      "A value is trying to be set on a copy of a slice from a DataFrame.\n",
      "Try using .loc[row_indexer,col_indexer] = value instead\n",
      "\n",
      "See the caveats in the documentation: https://pandas.pydata.org/pandas-docs/stable/user_guide/indexing.html#returning-a-view-versus-a-copy\n",
      "  Baoan_Weather1['Mo']=Baoan_Weather1['DATE'].dt.month\n",
      "C:\\Users\\19693\\AppData\\Local\\Temp\\ipykernel_85960\\2611724721.py:13: SettingWithCopyWarning: \n",
      "A value is trying to be set on a copy of a slice from a DataFrame.\n",
      "Try using .loc[row_indexer,col_indexer] = value instead\n",
      "\n",
      "See the caveats in the documentation: https://pandas.pydata.org/pandas-docs/stable/user_guide/indexing.html#returning-a-view-versus-a-copy\n",
      "  Baoan_Weather1['x']=Baoan_Weather1['Year']+(Baoan_Weather1['Mo']-1)/12\n",
      "C:\\Users\\19693\\AppData\\Local\\Temp\\ipykernel_85960\\2611724721.py:15: SettingWithCopyWarning: \n",
      "A value is trying to be set on a copy of a slice from a DataFrame\n",
      "\n",
      "See the caveats in the documentation: https://pandas.pydata.org/pandas-docs/stable/user_guide/indexing.html#returning-a-view-versus-a-copy\n",
      "  Baoan_Weather1['TMP'][(Baoan_Weather1['TMP'].str[-1]=='3')|(Baoan_Weather1['TMP'].str[-1]=='7')|(Baoan_Weather1['TMP'].str[2:]=='999,9')]=0\n",
      "C:\\Users\\19693\\AppData\\Local\\Temp\\ipykernel_85960\\2611724721.py:16: SettingWithCopyWarning: \n",
      "A value is trying to be set on a copy of a slice from a DataFrame\n",
      "\n",
      "See the caveats in the documentation: https://pandas.pydata.org/pandas-docs/stable/user_guide/indexing.html#returning-a-view-versus-a-copy\n",
      "  Baoan_Weather1['TMP'][(Baoan_Weather1['TMP'].str[-1]!='3')&(Baoan_Weather1['TMP'].str[-1]!='7')&(Baoan_Weather1['TMP'].str[2:]!='999,9')]=Baoan_Weather1['TMP'].str[2:4]+'.'+Baoan_Weather1['TMP'].str[4:5]\n",
      "C:\\Users\\19693\\AppData\\Local\\Temp\\ipykernel_85960\\2611724721.py:17: SettingWithCopyWarning: \n",
      "A value is trying to be set on a copy of a slice from a DataFrame.\n",
      "Try using .loc[row_indexer,col_indexer] = value instead\n",
      "\n",
      "See the caveats in the documentation: https://pandas.pydata.org/pandas-docs/stable/user_guide/indexing.html#returning-a-view-versus-a-copy\n",
      "  Baoan_Weather1['TMP']=Baoan_Weather1['TMP'].astype(float)\n"
     ]
    },
    {
     "data": {
      "text/plain": [
       "<AxesSubplot:xlabel='x'>"
      ]
     },
     "execution_count": 4,
     "metadata": {},
     "output_type": "execute_result"
    },
    {
     "data": {
      "image/png": "[encoded data removed]",
      "text/plain": [
       "<Figure size 432x288 with 1 Axes>"
      ]
     },
     "metadata": {
      "needs_background": "light"
     },
     "output_type": "display_data"
    }
   ],
   "source": [
    "#problem2\n",
    "import pandas as pd\n",
    "import numpy as np\n",
    "from matplotlib import pyplot as plt\n",
    "#输入数据\n",
    "Baoan_Weather = pd.read_csv('Baoan_Weather_1998_2022.csv')\n",
    "#挑取需要数据\n",
    "Baoan_Weather1=Baoan_Weather[['DATE','TMP']]\n",
    "#得到时间年月，生成年月主导的列x【年份+（月份-1）/12】用来绘图\n",
    "Baoan_Weather1['DATE']=pd.to_datetime(Baoan_Weather1['DATE'],format='%Y/%m/%d %H:%M:%S',errors='coerce')\n",
    "Baoan_Weather1['Year']=Baoan_Weather1['DATE'].dt.year\n",
    "Baoan_Weather1['Mo']=Baoan_Weather1['DATE'].dt.month\n",
    "Baoan_Weather1['x']=Baoan_Weather1['Year']+(Baoan_Weather1['Mo']-1)/12\n",
    "#得到温度，结尾是3和7的不取，’999，9‘的不取,全部为0.后续再去除\n",
    "Baoan_Weather1['TMP'][(Baoan_Weather1['TMP'].str[-1]=='3')|(Baoan_Weather1['TMP'].str[-1]=='7')|(Baoan_Weather1['TMP'].str[2:]=='999,9')]=0\n",
    "Baoan_Weather1['TMP'][(Baoan_Weather1['TMP'].str[-1]!='3')&(Baoan_Weather1['TMP'].str[-1]!='7')&(Baoan_Weather1['TMP'].str[2:]!='999,9')]=Baoan_Weather1['TMP'].str[2:4]+'.'+Baoan_Weather1['TMP'].str[4:5]\n",
    "Baoan_Weather1['TMP']=Baoan_Weather1['TMP'].astype(float)\n",
    "Baoan_Weather1[Baoan_Weather1['TMP']!=0].groupby('x').mean()['TMP'].plot()\n",
    "#过去的25年里一年内月平均气温整体趋势相似（存在一定周期性，都由年初升温到最高点后下降到年末），区间在30到15之间，部分年份存在更低的温度。"
   ]
  },
  {
   "cell_type": "code",
   "execution_count": 5,
   "id": "a302ce0f",
   "metadata": {},
   "outputs": [
    {
     "name": "stderr",
     "output_type": "stream",
     "text": [
      "C:\\Users\\19693\\AppData\\Local\\Temp\\ipykernel_85960\\3039061241.py:6: DtypeWarning: Columns (5,12) have mixed types. Specify dtype option on import or set low_memory=False.\n",
      "  df = pd.read_csv('ibtracs.ALL.list.v04r00.csv',\n"
     ]
    },
    {
     "data": {
      "text/html": [
       "<div>\n",
       "<style scoped>\n",
       "    .dataframe tbody tr th:only-of-type {\n",
       "        vertical-align: middle;\n",
       "    }\n",
       "\n",
       "    .dataframe tbody tr th {\n",
       "        vertical-align: top;\n",
       "    }\n",
       "\n",
       "    .dataframe thead th {\n",
       "        text-align: right;\n",
       "    }\n",
       "</style>\n",
       "<table border=\"1\" class=\"dataframe\">\n",
       "  <thead>\n",
       "    <tr style=\"text-align: right;\">\n",
       "      <th></th>\n",
       "      <th>SID</th>\n",
       "      <th>SEASON</th>\n",
       "      <th>NUMBER</th>\n",
       "      <th>BASIN</th>\n",
       "      <th>SUBBASIN</th>\n",
       "      <th>NAME</th>\n",
       "      <th>ISO_TIME</th>\n",
       "      <th>NATURE</th>\n",
       "      <th>LAT</th>\n",
       "      <th>LON</th>\n",
       "      <th>WMO_WIND</th>\n",
       "      <th>WMO_PRES</th>\n",
       "      <th>WMO_AGENCY</th>\n",
       "      <th>TRACK_TYPE</th>\n",
       "      <th>DIST2LAND</th>\n",
       "      <th>LANDFALL</th>\n",
       "      <th>IFLAG</th>\n",
       "    </tr>\n",
       "  </thead>\n",
       "  <tbody>\n",
       "    <tr>\n",
       "      <th>0</th>\n",
       "      <td>1842298N11080</td>\n",
       "      <td>1842</td>\n",
       "      <td>1</td>\n",
       "      <td>NI</td>\n",
       "      <td>BB</td>\n",
       "      <td>NaN</td>\n",
       "      <td>1842-10-25 03:00:00</td>\n",
       "      <td>NR</td>\n",
       "      <td>10.9000</td>\n",
       "      <td>80.3000</td>\n",
       "      <td>NaN</td>\n",
       "      <td>NaN</td>\n",
       "      <td>NaN</td>\n",
       "      <td>main</td>\n",
       "      <td>43</td>\n",
       "      <td>0.0</td>\n",
       "      <td>__________O___</td>\n",
       "    </tr>\n",
       "    <tr>\n",
       "      <th>1</th>\n",
       "      <td>1842298N11080</td>\n",
       "      <td>1842</td>\n",
       "      <td>1</td>\n",
       "      <td>NI</td>\n",
       "      <td>BB</td>\n",
       "      <td>NaN</td>\n",
       "      <td>1842-10-25 06:00:00</td>\n",
       "      <td>NR</td>\n",
       "      <td>10.8709</td>\n",
       "      <td>79.8265</td>\n",
       "      <td>NaN</td>\n",
       "      <td>NaN</td>\n",
       "      <td>NaN</td>\n",
       "      <td>main</td>\n",
       "      <td>0</td>\n",
       "      <td>0.0</td>\n",
       "      <td>__________P___</td>\n",
       "    </tr>\n",
       "    <tr>\n",
       "      <th>2</th>\n",
       "      <td>1842298N11080</td>\n",
       "      <td>1842</td>\n",
       "      <td>1</td>\n",
       "      <td>NI</td>\n",
       "      <td>BB</td>\n",
       "      <td>NaN</td>\n",
       "      <td>1842-10-25 09:00:00</td>\n",
       "      <td>NR</td>\n",
       "      <td>10.8431</td>\n",
       "      <td>79.3524</td>\n",
       "      <td>NaN</td>\n",
       "      <td>NaN</td>\n",
       "      <td>NaN</td>\n",
       "      <td>main</td>\n",
       "      <td>0</td>\n",
       "      <td>0.0</td>\n",
       "      <td>__________P___</td>\n",
       "    </tr>\n",
       "    <tr>\n",
       "      <th>3</th>\n",
       "      <td>1842298N11080</td>\n",
       "      <td>1842</td>\n",
       "      <td>1</td>\n",
       "      <td>NI</td>\n",
       "      <td>BB</td>\n",
       "      <td>NaN</td>\n",
       "      <td>1842-10-25 12:00:00</td>\n",
       "      <td>NR</td>\n",
       "      <td>10.8188</td>\n",
       "      <td>78.8772</td>\n",
       "      <td>NaN</td>\n",
       "      <td>NaN</td>\n",
       "      <td>NaN</td>\n",
       "      <td>main</td>\n",
       "      <td>0</td>\n",
       "      <td>0.0</td>\n",
       "      <td>__________P___</td>\n",
       "    </tr>\n",
       "    <tr>\n",
       "      <th>4</th>\n",
       "      <td>1842298N11080</td>\n",
       "      <td>1842</td>\n",
       "      <td>1</td>\n",
       "      <td>NI</td>\n",
       "      <td>BB</td>\n",
       "      <td>NaN</td>\n",
       "      <td>1842-10-25 15:00:00</td>\n",
       "      <td>NR</td>\n",
       "      <td>10.8000</td>\n",
       "      <td>78.4000</td>\n",
       "      <td>NaN</td>\n",
       "      <td>NaN</td>\n",
       "      <td>NaN</td>\n",
       "      <td>main</td>\n",
       "      <td>0</td>\n",
       "      <td>0.0</td>\n",
       "      <td>__________O___</td>\n",
       "    </tr>\n",
       "  </tbody>\n",
       "</table>\n",
       "</div>"
      ],
      "text/plain": [
       "             SID  SEASON  NUMBER BASIN SUBBASIN NAME            ISO_TIME  \\\n",
       "0  1842298N11080    1842       1    NI       BB  NaN 1842-10-25 03:00:00   \n",
       "1  1842298N11080    1842       1    NI       BB  NaN 1842-10-25 06:00:00   \n",
       "2  1842298N11080    1842       1    NI       BB  NaN 1842-10-25 09:00:00   \n",
       "3  1842298N11080    1842       1    NI       BB  NaN 1842-10-25 12:00:00   \n",
       "4  1842298N11080    1842       1    NI       BB  NaN 1842-10-25 15:00:00   \n",
       "\n",
       "  NATURE      LAT      LON  WMO_WIND  WMO_PRES WMO_AGENCY TRACK_TYPE  \\\n",
       "0     NR  10.9000  80.3000       NaN       NaN        NaN       main   \n",
       "1     NR  10.8709  79.8265       NaN       NaN        NaN       main   \n",
       "2     NR  10.8431  79.3524       NaN       NaN        NaN       main   \n",
       "3     NR  10.8188  78.8772       NaN       NaN        NaN       main   \n",
       "4     NR  10.8000  78.4000       NaN       NaN        NaN       main   \n",
       "\n",
       "   DIST2LAND  LANDFALL           IFLAG  \n",
       "0         43       0.0  __________O___  \n",
       "1          0       0.0  __________P___  \n",
       "2          0       0.0  __________P___  \n",
       "3          0       0.0  __________P___  \n",
       "4          0       0.0  __________O___  "
      ]
     },
     "execution_count": 5,
     "metadata": {},
     "output_type": "execute_result"
    }
   ],
   "source": [
    "#problem3(检查输入)\n",
    "import pandas as pd\n",
    "import numpy as np\n",
    "from matplotlib import pyplot as plt\n",
    "#读取数据\n",
    "df = pd.read_csv('ibtracs.ALL.list.v04r00.csv',\n",
    "                 usecols=range(17),\n",
    "                 skiprows=[1, 1],  \n",
    "                 parse_dates=['ISO_TIME'],\n",
    "                 na_values=['NOT_NAMED', 'NAME',' '])\n",
    "df.head()"
   ]
  },
  {
   "cell_type": "code",
   "execution_count": 6,
   "id": "db1cee1d",
   "metadata": {},
   "outputs": [
    {
     "data": {
      "text/html": [
       "<div>\n",
       "<style scoped>\n",
       "    .dataframe tbody tr th:only-of-type {\n",
       "        vertical-align: middle;\n",
       "    }\n",
       "\n",
       "    .dataframe tbody tr th {\n",
       "        vertical-align: top;\n",
       "    }\n",
       "\n",
       "    .dataframe thead th {\n",
       "        text-align: right;\n",
       "    }\n",
       "</style>\n",
       "<table border=\"1\" class=\"dataframe\">\n",
       "  <thead>\n",
       "    <tr style=\"text-align: right;\">\n",
       "      <th></th>\n",
       "      <th>SID</th>\n",
       "      <th>NAME</th>\n",
       "      <th>WMO_WIND</th>\n",
       "    </tr>\n",
       "  </thead>\n",
       "  <tbody>\n",
       "    <tr>\n",
       "      <th>665955</th>\n",
       "      <td>2015293N13266</td>\n",
       "      <td>PATRICIA</td>\n",
       "      <td>185.0</td>\n",
       "    </tr>\n",
       "    <tr>\n",
       "      <th>427637</th>\n",
       "      <td>1980214N11330</td>\n",
       "      <td>ALLEN</td>\n",
       "      <td>165.0</td>\n",
       "    </tr>\n",
       "    <tr>\n",
       "      <th>178213</th>\n",
       "      <td>1935241N23291</td>\n",
       "      <td>NaN</td>\n",
       "      <td>160.0</td>\n",
       "    </tr>\n",
       "    <tr>\n",
       "      <th>552460</th>\n",
       "      <td>1997253N12255</td>\n",
       "      <td>LINDA</td>\n",
       "      <td>160.0</td>\n",
       "    </tr>\n",
       "    <tr>\n",
       "      <th>605747</th>\n",
       "      <td>2005289N18282</td>\n",
       "      <td>WILMA</td>\n",
       "      <td>160.0</td>\n",
       "    </tr>\n",
       "    <tr>\n",
       "      <th>482075</th>\n",
       "      <td>1988253N12306</td>\n",
       "      <td>GILBERT</td>\n",
       "      <td>160.0</td>\n",
       "    </tr>\n",
       "    <tr>\n",
       "      <th>689333</th>\n",
       "      <td>2019236N10314</td>\n",
       "      <td>DORIAN</td>\n",
       "      <td>160.0</td>\n",
       "    </tr>\n",
       "    <tr>\n",
       "      <th>604983</th>\n",
       "      <td>2005261N21290</td>\n",
       "      <td>RITA</td>\n",
       "      <td>155.0</td>\n",
       "    </tr>\n",
       "    <tr>\n",
       "      <th>560438</th>\n",
       "      <td>1998295N12284</td>\n",
       "      <td>MITCH</td>\n",
       "      <td>155.0</td>\n",
       "    </tr>\n",
       "    <tr>\n",
       "      <th>676152</th>\n",
       "      <td>2017242N16333</td>\n",
       "      <td>IRMA</td>\n",
       "      <td>155.0</td>\n",
       "    </tr>\n",
       "  </tbody>\n",
       "</table>\n",
       "</div>"
      ],
      "text/plain": [
       "                  SID      NAME  WMO_WIND\n",
       "665955  2015293N13266  PATRICIA     185.0\n",
       "427637  1980214N11330     ALLEN     165.0\n",
       "178213  1935241N23291       NaN     160.0\n",
       "552460  1997253N12255     LINDA     160.0\n",
       "605747  2005289N18282     WILMA     160.0\n",
       "482075  1988253N12306   GILBERT     160.0\n",
       "689333  2019236N10314    DORIAN     160.0\n",
       "604983  2005261N21290      RITA     155.0\n",
       "560438  1998295N12284     MITCH     155.0\n",
       "676152  2017242N16333      IRMA     155.0"
      ]
     },
     "execution_count": 6,
     "metadata": {},
     "output_type": "execute_result"
    }
   ],
   "source": [
    "#problem3.1\n",
    "#先排列所有风速，再按SID分组取第一个就是SID内最大值，再返回前10个\n",
    "df.sort_values('WMO_WIND',ascending=False).groupby('SID').head(1).head(10)[['SID','NAME','WMO_WIND']]"
   ]
  },
  {
   "cell_type": "code",
   "execution_count": 7,
   "id": "ea64bf54",
   "metadata": {},
   "outputs": [
    {
     "data": {
      "text/plain": [
       "<AxesSubplot:xlabel='SID'>"
      ]
     },
     "execution_count": 7,
     "metadata": {},
     "output_type": "execute_result"
    },
    {
     "data": {
      "image/png": "[encoded data removed]",
      "text/plain": [
       "<Figure size 432x288 with 1 Axes>"
      ]
     },
     "metadata": {
      "needs_background": "light"
     },
     "output_type": "display_data"
    }
   ],
   "source": [
    "#problem3.2\n",
    "#先排列所有风速，再按SID分组取第一个就是SID内最大值，再返回前20个进行绘图\n",
    "df.sort_values('WMO_WIND',ascending=False).groupby('SID').head(1).head(20).plot(kind='bar',x='SID',y='WMO_WIND')"
   ]
  },
  {
   "cell_type": "code",
   "execution_count": 8,
   "id": "e6bafa6f",
   "metadata": {},
   "outputs": [
    {
     "data": {
      "text/plain": [
       "<AxesSubplot:>"
      ]
     },
     "execution_count": 8,
     "metadata": {},
     "output_type": "execute_result"
    },
    {
     "data": {
      "image/png": "[encoded data removed]",
      "text/plain": [
       "<Figure size 432x288 with 1 Axes>"
      ]
     },
     "metadata": {
      "needs_background": "light"
     },
     "output_type": "display_data"
    }
   ],
   "source": [
    "#problem3.3\n",
    "#直接计算不同BASIN对应个数\n",
    "df['BASIN'].value_counts().plot(kind='bar')"
   ]
  },
  {
   "cell_type": "code",
   "execution_count": 9,
   "id": "c6c4957f",
   "metadata": {},
   "outputs": [
    {
     "data": {
      "text/plain": [
       "<matplotlib.collections.PolyCollection at 0x15c59df9790>"
      ]
     },
     "execution_count": 9,
     "metadata": {},
     "output_type": "execute_result"
    },
    {
     "data": {
      "image/png": "[encoded data removed]",
      "text/plain": [
       "<Figure size 432x288 with 1 Axes>"
      ]
     },
     "metadata": {
      "needs_background": "light"
     },
     "output_type": "display_data"
    }
   ],
   "source": [
    "#problem3.4\n",
    "#用数据的经纬度进行绘图\n",
    "plt.hexbin(df['LON'],df['LAT'], gridsize = 50, cmap ='Greens') "
   ]
  },
  {
   "cell_type": "code",
   "execution_count": 10,
   "id": "4779865e",
   "metadata": {},
   "outputs": [
    {
     "data": {
      "text/plain": [
       "<matplotlib.collections.PathCollection at 0x15c6256f760>"
      ]
     },
     "execution_count": 10,
     "metadata": {},
     "output_type": "execute_result"
    },
    {
     "data": {
      "image/png": "[encoded data removed]",
      "text/plain": [
       "<Figure size 432x288 with 1 Axes>"
      ]
     },
     "metadata": {
      "needs_background": "light"
     },
     "output_type": "display_data"
    }
   ],
   "source": [
    "#problem3.5\n",
    "#筛选需要数据，即台风名和年份符合的数据\n",
    "df1=df[['LON','LAT']][(df['NAME']=='MANGKHUT')&(df['SEASON']==2018)]\n",
    "plt.scatter(df1['LON'],df1['LAT']) "
   ]
  },
  {
   "cell_type": "code",
   "execution_count": 11,
   "id": "08bb771e",
   "metadata": {},
   "outputs": [
    {
     "data": {
      "text/html": [
       "<div>\n",
       "<style scoped>\n",
       "    .dataframe tbody tr th:only-of-type {\n",
       "        vertical-align: middle;\n",
       "    }\n",
       "\n",
       "    .dataframe tbody tr th {\n",
       "        vertical-align: top;\n",
       "    }\n",
       "\n",
       "    .dataframe thead th {\n",
       "        text-align: right;\n",
       "    }\n",
       "</style>\n",
       "<table border=\"1\" class=\"dataframe\">\n",
       "  <thead>\n",
       "    <tr style=\"text-align: right;\">\n",
       "      <th></th>\n",
       "      <th>SID</th>\n",
       "      <th>SEASON</th>\n",
       "      <th>NUMBER</th>\n",
       "      <th>BASIN</th>\n",
       "      <th>SUBBASIN</th>\n",
       "      <th>NAME</th>\n",
       "      <th>ISO_TIME</th>\n",
       "      <th>NATURE</th>\n",
       "      <th>LAT</th>\n",
       "      <th>LON</th>\n",
       "      <th>WMO_WIND</th>\n",
       "      <th>WMO_PRES</th>\n",
       "      <th>WMO_AGENCY</th>\n",
       "      <th>TRACK_TYPE</th>\n",
       "      <th>DIST2LAND</th>\n",
       "      <th>LANDFALL</th>\n",
       "      <th>IFLAG</th>\n",
       "    </tr>\n",
       "  </thead>\n",
       "  <tbody>\n",
       "    <tr>\n",
       "      <th>350394</th>\n",
       "      <td>1970050N07151</td>\n",
       "      <td>1970</td>\n",
       "      <td>22</td>\n",
       "      <td>WP</td>\n",
       "      <td>MM</td>\n",
       "      <td>NANCY</td>\n",
       "      <td>1970-02-19 00:00:00</td>\n",
       "      <td>TS</td>\n",
       "      <td>7.00000</td>\n",
       "      <td>151.400</td>\n",
       "      <td>NaN</td>\n",
       "      <td>1006.0</td>\n",
       "      <td>tokyo</td>\n",
       "      <td>main</td>\n",
       "      <td>1088</td>\n",
       "      <td>1088.0</td>\n",
       "      <td>_OO___________</td>\n",
       "    </tr>\n",
       "    <tr>\n",
       "      <th>350395</th>\n",
       "      <td>1970050N07151</td>\n",
       "      <td>1970</td>\n",
       "      <td>22</td>\n",
       "      <td>WP</td>\n",
       "      <td>MM</td>\n",
       "      <td>NANCY</td>\n",
       "      <td>1970-02-19 03:00:00</td>\n",
       "      <td>TS</td>\n",
       "      <td>7.24752</td>\n",
       "      <td>151.205</td>\n",
       "      <td>NaN</td>\n",
       "      <td>NaN</td>\n",
       "      <td>NaN</td>\n",
       "      <td>main</td>\n",
       "      <td>1109</td>\n",
       "      <td>1109.0</td>\n",
       "      <td>_PP___________</td>\n",
       "    </tr>\n",
       "    <tr>\n",
       "      <th>350396</th>\n",
       "      <td>1970050N07151</td>\n",
       "      <td>1970</td>\n",
       "      <td>22</td>\n",
       "      <td>WP</td>\n",
       "      <td>MM</td>\n",
       "      <td>NANCY</td>\n",
       "      <td>1970-02-19 06:00:00</td>\n",
       "      <td>TS</td>\n",
       "      <td>7.50000</td>\n",
       "      <td>151.000</td>\n",
       "      <td>NaN</td>\n",
       "      <td>1002.0</td>\n",
       "      <td>tokyo</td>\n",
       "      <td>main</td>\n",
       "      <td>1143</td>\n",
       "      <td>1143.0</td>\n",
       "      <td>_OO___________</td>\n",
       "    </tr>\n",
       "    <tr>\n",
       "      <th>350397</th>\n",
       "      <td>1970050N07151</td>\n",
       "      <td>1970</td>\n",
       "      <td>22</td>\n",
       "      <td>WP</td>\n",
       "      <td>MM</td>\n",
       "      <td>NANCY</td>\n",
       "      <td>1970-02-19 09:00:00</td>\n",
       "      <td>TS</td>\n",
       "      <td>7.75747</td>\n",
       "      <td>150.772</td>\n",
       "      <td>NaN</td>\n",
       "      <td>NaN</td>\n",
       "      <td>NaN</td>\n",
       "      <td>main</td>\n",
       "      <td>1171</td>\n",
       "      <td>1168.0</td>\n",
       "      <td>_PP___________</td>\n",
       "    </tr>\n",
       "    <tr>\n",
       "      <th>350398</th>\n",
       "      <td>1970050N07151</td>\n",
       "      <td>1970</td>\n",
       "      <td>22</td>\n",
       "      <td>WP</td>\n",
       "      <td>MM</td>\n",
       "      <td>NANCY</td>\n",
       "      <td>1970-02-19 12:00:00</td>\n",
       "      <td>TS</td>\n",
       "      <td>8.00000</td>\n",
       "      <td>150.500</td>\n",
       "      <td>NaN</td>\n",
       "      <td>998.0</td>\n",
       "      <td>tokyo</td>\n",
       "      <td>main</td>\n",
       "      <td>1182</td>\n",
       "      <td>1179.0</td>\n",
       "      <td>_OO___________</td>\n",
       "    </tr>\n",
       "    <tr>\n",
       "      <th>...</th>\n",
       "      <td>...</td>\n",
       "      <td>...</td>\n",
       "      <td>...</td>\n",
       "      <td>...</td>\n",
       "      <td>...</td>\n",
       "      <td>...</td>\n",
       "      <td>...</td>\n",
       "      <td>...</td>\n",
       "      <td>...</td>\n",
       "      <td>...</td>\n",
       "      <td>...</td>\n",
       "      <td>...</td>\n",
       "      <td>...</td>\n",
       "      <td>...</td>\n",
       "      <td>...</td>\n",
       "      <td>...</td>\n",
       "      <td>...</td>\n",
       "    </tr>\n",
       "    <tr>\n",
       "      <th>707085</th>\n",
       "      <td>2022275N10316</td>\n",
       "      <td>2022</td>\n",
       "      <td>76</td>\n",
       "      <td>EP</td>\n",
       "      <td>MM</td>\n",
       "      <td>JULIA</td>\n",
       "      <td>2022-10-10 15:00:00</td>\n",
       "      <td>TS</td>\n",
       "      <td>13.99570</td>\n",
       "      <td>-90.294</td>\n",
       "      <td>NaN</td>\n",
       "      <td>NaN</td>\n",
       "      <td>NaN</td>\n",
       "      <td>PROVISIONAL</td>\n",
       "      <td>0</td>\n",
       "      <td>0.0</td>\n",
       "      <td>P_____________</td>\n",
       "    </tr>\n",
       "    <tr>\n",
       "      <th>707086</th>\n",
       "      <td>2022275N10316</td>\n",
       "      <td>2022</td>\n",
       "      <td>76</td>\n",
       "      <td>EP</td>\n",
       "      <td>MM</td>\n",
       "      <td>JULIA</td>\n",
       "      <td>2022-10-10 18:00:00</td>\n",
       "      <td>NR</td>\n",
       "      <td>14.50000</td>\n",
       "      <td>-91.000</td>\n",
       "      <td>NaN</td>\n",
       "      <td>NaN</td>\n",
       "      <td>NaN</td>\n",
       "      <td>PROVISIONAL</td>\n",
       "      <td>0</td>\n",
       "      <td>NaN</td>\n",
       "      <td>O_____________</td>\n",
       "    </tr>\n",
       "    <tr>\n",
       "      <th>707174</th>\n",
       "      <td>2022286N15151</td>\n",
       "      <td>2022</td>\n",
       "      <td>80</td>\n",
       "      <td>WP</td>\n",
       "      <td>MM</td>\n",
       "      <td>NaN</td>\n",
       "      <td>2022-10-12 12:00:00</td>\n",
       "      <td>NR</td>\n",
       "      <td>15.20000</td>\n",
       "      <td>151.300</td>\n",
       "      <td>NaN</td>\n",
       "      <td>NaN</td>\n",
       "      <td>NaN</td>\n",
       "      <td>PROVISIONAL</td>\n",
       "      <td>1985</td>\n",
       "      <td>1974.0</td>\n",
       "      <td>O_____________</td>\n",
       "    </tr>\n",
       "    <tr>\n",
       "      <th>707175</th>\n",
       "      <td>2022286N15151</td>\n",
       "      <td>2022</td>\n",
       "      <td>80</td>\n",
       "      <td>WP</td>\n",
       "      <td>MM</td>\n",
       "      <td>NaN</td>\n",
       "      <td>2022-10-12 15:00:00</td>\n",
       "      <td>NR</td>\n",
       "      <td>15.05000</td>\n",
       "      <td>151.325</td>\n",
       "      <td>NaN</td>\n",
       "      <td>NaN</td>\n",
       "      <td>NaN</td>\n",
       "      <td>PROVISIONAL</td>\n",
       "      <td>1974</td>\n",
       "      <td>1952.0</td>\n",
       "      <td>P_____________</td>\n",
       "    </tr>\n",
       "    <tr>\n",
       "      <th>707176</th>\n",
       "      <td>2022286N15151</td>\n",
       "      <td>2022</td>\n",
       "      <td>80</td>\n",
       "      <td>WP</td>\n",
       "      <td>MM</td>\n",
       "      <td>NaN</td>\n",
       "      <td>2022-10-12 18:00:00</td>\n",
       "      <td>NR</td>\n",
       "      <td>14.90000</td>\n",
       "      <td>151.350</td>\n",
       "      <td>NaN</td>\n",
       "      <td>NaN</td>\n",
       "      <td>NaN</td>\n",
       "      <td>PROVISIONAL</td>\n",
       "      <td>1954</td>\n",
       "      <td>NaN</td>\n",
       "      <td>O_____________</td>\n",
       "    </tr>\n",
       "  </tbody>\n",
       "</table>\n",
       "<p>176352 rows × 17 columns</p>\n",
       "</div>"
      ],
      "text/plain": [
       "                  SID  SEASON  NUMBER BASIN SUBBASIN   NAME  \\\n",
       "350394  1970050N07151    1970      22    WP       MM  NANCY   \n",
       "350395  1970050N07151    1970      22    WP       MM  NANCY   \n",
       "350396  1970050N07151    1970      22    WP       MM  NANCY   \n",
       "350397  1970050N07151    1970      22    WP       MM  NANCY   \n",
       "350398  1970050N07151    1970      22    WP       MM  NANCY   \n",
       "...               ...     ...     ...   ...      ...    ...   \n",
       "707085  2022275N10316    2022      76    EP       MM  JULIA   \n",
       "707086  2022275N10316    2022      76    EP       MM  JULIA   \n",
       "707174  2022286N15151    2022      80    WP       MM    NaN   \n",
       "707175  2022286N15151    2022      80    WP       MM    NaN   \n",
       "707176  2022286N15151    2022      80    WP       MM    NaN   \n",
       "\n",
       "                  ISO_TIME NATURE       LAT      LON  WMO_WIND  WMO_PRES  \\\n",
       "350394 1970-02-19 00:00:00     TS   7.00000  151.400       NaN    1006.0   \n",
       "350395 1970-02-19 03:00:00     TS   7.24752  151.205       NaN       NaN   \n",
       "350396 1970-02-19 06:00:00     TS   7.50000  151.000       NaN    1002.0   \n",
       "350397 1970-02-19 09:00:00     TS   7.75747  150.772       NaN       NaN   \n",
       "350398 1970-02-19 12:00:00     TS   8.00000  150.500       NaN     998.0   \n",
       "...                    ...    ...       ...      ...       ...       ...   \n",
       "707085 2022-10-10 15:00:00     TS  13.99570  -90.294       NaN       NaN   \n",
       "707086 2022-10-10 18:00:00     NR  14.50000  -91.000       NaN       NaN   \n",
       "707174 2022-10-12 12:00:00     NR  15.20000  151.300       NaN       NaN   \n",
       "707175 2022-10-12 15:00:00     NR  15.05000  151.325       NaN       NaN   \n",
       "707176 2022-10-12 18:00:00     NR  14.90000  151.350       NaN       NaN   \n",
       "\n",
       "       WMO_AGENCY   TRACK_TYPE  DIST2LAND  LANDFALL           IFLAG  \n",
       "350394      tokyo         main       1088    1088.0  _OO___________  \n",
       "350395        NaN         main       1109    1109.0  _PP___________  \n",
       "350396      tokyo         main       1143    1143.0  _OO___________  \n",
       "350397        NaN         main       1171    1168.0  _PP___________  \n",
       "350398      tokyo         main       1182    1179.0  _OO___________  \n",
       "...           ...          ...        ...       ...             ...  \n",
       "707085        NaN  PROVISIONAL          0       0.0  P_____________  \n",
       "707086        NaN  PROVISIONAL          0       NaN  O_____________  \n",
       "707174        NaN  PROVISIONAL       1985    1974.0  O_____________  \n",
       "707175        NaN  PROVISIONAL       1974    1952.0  P_____________  \n",
       "707176        NaN  PROVISIONAL       1954       NaN  O_____________  \n",
       "\n",
       "[176352 rows x 17 columns]"
      ]
     },
     "execution_count": 11,
     "metadata": {},
     "output_type": "execute_result"
    }
   ],
   "source": [
    "#problem3.6\n",
    "#选取数据\n",
    "df_6=df[((df['BASIN']=='WP')|(df['BASIN']=='EP'))&(df['SEASON']>=1970)]\n",
    "df_6"
   ]
  },
  {
   "cell_type": "code",
   "execution_count": 12,
   "id": "2bb59442",
   "metadata": {},
   "outputs": [
    {
     "name": "stderr",
     "output_type": "stream",
     "text": [
      "C:\\Users\\19693\\AppData\\Local\\Temp\\ipykernel_85960\\1928485141.py:3: SettingWithCopyWarning: \n",
      "A value is trying to be set on a copy of a slice from a DataFrame\n",
      "\n",
      "See the caveats in the documentation: https://pandas.pydata.org/pandas-docs/stable/user_guide/indexing.html#returning-a-view-versus-a-copy\n",
      "  df_6.rename(index=df_6['ISO_TIME'],inplace=True)\n",
      "C:\\Users\\19693\\AppData\\Local\\Temp\\ipykernel_85960\\1928485141.py:5: SettingWithCopyWarning: \n",
      "A value is trying to be set on a copy of a slice from a DataFrame.\n",
      "Try using .loc[row_indexer,col_indexer] = value instead\n",
      "\n",
      "See the caveats in the documentation: https://pandas.pydata.org/pandas-docs/stable/user_guide/indexing.html#returning-a-view-versus-a-copy\n",
      "  df_6['n']=1\n"
     ]
    },
    {
     "data": {
      "text/plain": [
       "[<matplotlib.lines.Line2D at 0x15c59d4cc40>]"
      ]
     },
     "execution_count": 12,
     "metadata": {},
     "output_type": "execute_result"
    },
    {
     "data": {
      "image/png": "[encoded data removed]",
      "text/plain": [
       "<Figure size 432x288 with 1 Axes>"
      ]
     },
     "metadata": {
      "needs_background": "light"
     },
     "output_type": "display_data"
    }
   ],
   "source": [
    "#problem3.7\n",
    "#将时间赋予index，resample用法来自于陈禹凡讲解\n",
    "df_6.rename(index=df_6['ISO_TIME'],inplace=True)\n",
    "#为了便于求总的计数\n",
    "df_6['n']=1\n",
    "#按day求和计数点\n",
    "df_7=df_6.resample('D').sum()['n']\n",
    "plt.plot_date(df_7.index,df_7,markersize=1.5)"
   ]
  },
  {
   "cell_type": "code",
   "execution_count": 31,
   "id": "19ab987c",
   "metadata": {},
   "outputs": [
    {
     "data": {
      "text/plain": [
       "83"
      ]
     },
     "execution_count": 31,
     "metadata": {},
     "output_type": "execute_result"
    }
   ],
   "source": [
    "#problem3.8\n",
    "#创建一个新的datafram，列d为一年年中第几天，ddd为对应每个台风数据点数\n",
    "ddf=pd.DataFrame(columns=['d','ddd'])\n",
    "for i in range(len(df_7.index)):\n",
    "    #将每个数据对应的日期转变成每年的第几天的形式\n",
    "    t=int(df_7.index[i].timetuple().tm_yday)\n",
    "    ddf.loc[df_7.index[i],['d']]=t\n",
    "    #将每个台风数量点数量导入\n",
    "    ddf.loc[df_7.index[i],['ddd']]=df_7[i]\n",
    "#按年中天分类然后求所有年份这个天的总数和\n",
    "ddff=ddf.groupby('d').sum()['ddd'].reset_index()\n",
    "def day_of_year(day):\n",
    "    #在dddff中寻找到年中天一样的数然后返回\n",
    "    return int(ddff['ddd'][ddff['d']==day])\n",
    "#举例\n",
    "day_of_year(1)"
   ]
  },
  {
   "cell_type": "code",
   "execution_count": 35,
   "id": "ff13bfb7",
   "metadata": {},
   "outputs": [
    {
     "data": {
      "text/html": [
       "<div>\n",
       "<style scoped>\n",
       "    .dataframe tbody tr th:only-of-type {\n",
       "        vertical-align: middle;\n",
       "    }\n",
       "\n",
       "    .dataframe tbody tr th {\n",
       "        vertical-align: top;\n",
       "    }\n",
       "\n",
       "    .dataframe thead th {\n",
       "        text-align: right;\n",
       "    }\n",
       "</style>\n",
       "<table border=\"1\" class=\"dataframe\">\n",
       "  <thead>\n",
       "    <tr style=\"text-align: right;\">\n",
       "      <th></th>\n",
       "      <th>anomaly</th>\n",
       "    </tr>\n",
       "  </thead>\n",
       "  <tbody>\n",
       "    <tr>\n",
       "      <th>1970-02-19</th>\n",
       "      <td>7.018868</td>\n",
       "    </tr>\n",
       "    <tr>\n",
       "      <th>1970-02-20</th>\n",
       "      <td>7.09434</td>\n",
       "    </tr>\n",
       "    <tr>\n",
       "      <th>1970-02-21</th>\n",
       "      <td>7.188679</td>\n",
       "    </tr>\n",
       "    <tr>\n",
       "      <th>1970-02-22</th>\n",
       "      <td>7.377358</td>\n",
       "    </tr>\n",
       "    <tr>\n",
       "      <th>1970-02-23</th>\n",
       "      <td>7.490566</td>\n",
       "    </tr>\n",
       "    <tr>\n",
       "      <th>...</th>\n",
       "      <td>...</td>\n",
       "    </tr>\n",
       "    <tr>\n",
       "      <th>2022-10-08</th>\n",
       "      <td>-17.245283</td>\n",
       "    </tr>\n",
       "    <tr>\n",
       "      <th>2022-10-09</th>\n",
       "      <td>-17.301887</td>\n",
       "    </tr>\n",
       "    <tr>\n",
       "      <th>2022-10-10</th>\n",
       "      <td>-12.396226</td>\n",
       "    </tr>\n",
       "    <tr>\n",
       "      <th>2022-10-11</th>\n",
       "      <td>-18.528302</td>\n",
       "    </tr>\n",
       "    <tr>\n",
       "      <th>2022-10-12</th>\n",
       "      <td>-14.924528</td>\n",
       "    </tr>\n",
       "  </tbody>\n",
       "</table>\n",
       "<p>19229 rows × 1 columns</p>\n",
       "</div>"
      ],
      "text/plain": [
       "              anomaly\n",
       "1970-02-19   7.018868\n",
       "1970-02-20    7.09434\n",
       "1970-02-21   7.188679\n",
       "1970-02-22   7.377358\n",
       "1970-02-23   7.490566\n",
       "...               ...\n",
       "2022-10-08 -17.245283\n",
       "2022-10-09 -17.301887\n",
       "2022-10-10 -12.396226\n",
       "2022-10-11 -18.528302\n",
       "2022-10-12 -14.924528\n",
       "\n",
       "[19229 rows x 1 columns]"
      ]
     },
     "execution_count": 35,
     "metadata": {},
     "output_type": "execute_result"
    }
   ],
   "source": [
    "#problem3.9\n",
    "#陈禹凡向我解释了题目意思\n",
    "#创建ddfff为一年中第几天（d）对应多少个年（d对应的ddd的个数）的datafram\n",
    "ddfff=ddf.groupby('d').count()['ddd'].reset_index()\n",
    "def s(day):\n",
    "    #在dddff中寻找到年中天一样的数然后返回\n",
    "    return int(ddfff['ddd'][ddfff['d']==day])\n",
    "#得到366天内每天的年个数\n",
    "xx=[]\n",
    "for i in range(0,366):\n",
    "    xx.append(day_of_year(i+1)/s(i+1))\n",
    "#建立输出结果y\n",
    "y=pd.DataFrame(columns=['anomaly'])\n",
    "#将全部的数据遍历\n",
    "for j in range(len(df_7.index)):\n",
    "    #时间转化成一年的第几天\n",
    "    t=int(df_7.index[j].timetuple().tm_yday)\n",
    "    #将各个时间点对应的值减去多年每日平均\n",
    "    y.loc[df_7.index[j],['anomaly']]=df_7[j]-xx[t-1]\n",
    "y"
   ]
  },
  {
   "cell_type": "code",
   "execution_count": 36,
   "id": "8cf31a53",
   "metadata": {},
   "outputs": [
    {
     "name": "stdout",
     "output_type": "stream",
     "text": [
      "2010-12-31   -4.570616\n",
      "Name: anomaly, dtype: float64\n",
      "1992-12-31    4.537501\n",
      "1994-12-31    4.415686\n",
      "Name: anomaly, dtype: float64\n"
     ]
    },
    {
     "data": {
      "text/plain": [
       "[<matplotlib.lines.Line2D at 0x15c05ceb040>]"
      ]
     },
     "execution_count": 36,
     "metadata": {},
     "output_type": "execute_result"
    },
    {
     "data": {
      "image/png": "[encoded data removed]",
      "text/plain": [
       "<Figure size 432x288 with 1 Axes>"
      ]
     },
     "metadata": {
      "needs_background": "light"
     },
     "output_type": "display_data"
    }
   ],
   "source": [
    "#problem3.10\n",
    "#求各年的平均anomaly进行绘图\n",
    "df_10=y.resample('Y').mean()['anomaly'].sort_values()\n",
    "#找到低于均值最多的点为2010年\n",
    "print(df_10.sort_values().head(1))\n",
    "#找到明显过多的点为1992年和1994年\n",
    "print(df_10.sort_values(ascending=False).head(2))\n",
    "plt.plot_date(df_10.index,df_10,markersize=1.5)\n",
    "#整体分布沿均值对称，较分散跨度大，最少的低于均值-4.57的2010年，分别高于均值4.53和4.41的1992年和1994年。"
   ]
  },
  {
   "cell_type": "code",
   "execution_count": 1,
   "id": "96f07aeb",
   "metadata": {},
   "outputs": [
    {
     "data": {
      "text/html": [
       "<div>\n",
       "<style scoped>\n",
       "    .dataframe tbody tr th:only-of-type {\n",
       "        vertical-align: middle;\n",
       "    }\n",
       "\n",
       "    .dataframe tbody tr th {\n",
       "        vertical-align: top;\n",
       "    }\n",
       "\n",
       "    .dataframe thead th {\n",
       "        text-align: right;\n",
       "    }\n",
       "</style>\n",
       "<table border=\"1\" class=\"dataframe\">\n",
       "  <thead>\n",
       "    <tr style=\"text-align: right;\">\n",
       "      <th></th>\n",
       "      <th>Date</th>\n",
       "      <th>TAVG (Degrees Fahrenheit)</th>\n",
       "      <th>TMAX (Degrees Fahrenheit)</th>\n",
       "      <th>TMIN (Degrees Fahrenheit)</th>\n",
       "      <th>PRCP (Inches)</th>\n",
       "      <th>SNOW (Inches)</th>\n",
       "      <th>SNWD (Inches)</th>\n",
       "    </tr>\n",
       "  </thead>\n",
       "  <tbody>\n",
       "    <tr>\n",
       "      <th>0</th>\n",
       "      <td>1951-01-01</td>\n",
       "      <td>NaN</td>\n",
       "      <td>56.0</td>\n",
       "      <td>30.0</td>\n",
       "      <td>0.00</td>\n",
       "      <td>NaN</td>\n",
       "      <td>NaN</td>\n",
       "    </tr>\n",
       "    <tr>\n",
       "      <th>1</th>\n",
       "      <td>1951-01-02</td>\n",
       "      <td>44.0</td>\n",
       "      <td>46.0</td>\n",
       "      <td>42.0</td>\n",
       "      <td>0.06</td>\n",
       "      <td>NaN</td>\n",
       "      <td>NaN</td>\n",
       "    </tr>\n",
       "    <tr>\n",
       "      <th>2</th>\n",
       "      <td>1951-01-03</td>\n",
       "      <td>45.0</td>\n",
       "      <td>49.0</td>\n",
       "      <td>41.0</td>\n",
       "      <td>0.00</td>\n",
       "      <td>NaN</td>\n",
       "      <td>NaN</td>\n",
       "    </tr>\n",
       "    <tr>\n",
       "      <th>3</th>\n",
       "      <td>1951-01-04</td>\n",
       "      <td>44.0</td>\n",
       "      <td>58.0</td>\n",
       "      <td>34.0</td>\n",
       "      <td>0.00</td>\n",
       "      <td>NaN</td>\n",
       "      <td>NaN</td>\n",
       "    </tr>\n",
       "    <tr>\n",
       "      <th>4</th>\n",
       "      <td>1951-01-05</td>\n",
       "      <td>50.0</td>\n",
       "      <td>61.0</td>\n",
       "      <td>42.0</td>\n",
       "      <td>0.00</td>\n",
       "      <td>NaN</td>\n",
       "      <td>NaN</td>\n",
       "    </tr>\n",
       "  </tbody>\n",
       "</table>\n",
       "</div>"
      ],
      "text/plain": [
       "        Date  TAVG (Degrees Fahrenheit)  TMAX (Degrees Fahrenheit)  \\\n",
       "0 1951-01-01                        NaN                       56.0   \n",
       "1 1951-01-02                       44.0                       46.0   \n",
       "2 1951-01-03                       45.0                       49.0   \n",
       "3 1951-01-04                       44.0                       58.0   \n",
       "4 1951-01-05                       50.0                       61.0   \n",
       "\n",
       "   TMIN (Degrees Fahrenheit)  PRCP (Inches)  SNOW (Inches)  SNWD (Inches)  \n",
       "0                       30.0           0.00            NaN            NaN  \n",
       "1                       42.0           0.06            NaN            NaN  \n",
       "2                       41.0           0.00            NaN            NaN  \n",
       "3                       34.0           0.00            NaN            NaN  \n",
       "4                       42.0           0.00            NaN            NaN  "
      ]
     },
     "execution_count": 1,
     "metadata": {},
     "output_type": "execute_result"
    }
   ],
   "source": [
    "#problem4.1\n",
    "# import pandas \n",
    "import pandas as pd\n",
    "# import numpy\n",
    "import numpy as np\n",
    "# import matplotlib\n",
    "from matplotlib import pyplot as plt\n",
    "#读取数据HANGZHOU, CH (CHM00058457)的data.csv\n",
    "df = pd.read_csv('data.csv',  \n",
    "                 parse_dates=['Date'],\n",
    "                 na_values=[' '])\n",
    "df.head()"
   ]
  },
  {
   "cell_type": "code",
   "execution_count": 2,
   "id": "61dbf35c",
   "metadata": {},
   "outputs": [
    {
     "data": {
      "text/plain": [
       "<AxesSubplot:xlabel='year', ylabel='TAVG (Degrees Fahrenheit)'>"
      ]
     },
     "execution_count": 2,
     "metadata": {},
     "output_type": "execute_result"
    },
    {
     "data": {
      "image/png": "[encoded data removed]",
      "text/plain": [
       "<Figure size 432x288 with 1 Axes>"
      ]
     },
     "metadata": {
      "needs_background": "light"
     },
     "output_type": "display_data"
    }
   ],
   "source": [
    "#problem4.2\n",
    "df.rename(index=df['Date'],inplace=True)\n",
    "#绘制年均气温TAVG (Degrees Fahrenheit)随年份变化折线图，因为部分数据缺失，因此求年最高最低气温可能误差较大，且降雨相比于气温存在大波动（缺失的话误差大）\n",
    "df.resample('Y').mean()['TAVG (Degrees Fahrenheit)'].plot(xlabel='year',ylabel='TAVG (Degrees Fahrenheit)')\n",
    "#2022年均气温上升剧烈是由于2022年统计数据到10月，缺失后续低温部分"
   ]
  },
  {
   "cell_type": "code",
   "execution_count": 3,
   "id": "97fbf068",
   "metadata": {},
   "outputs": [
    {
     "name": "stderr",
     "output_type": "stream",
     "text": [
      "C:\\Users\\19693\\AppData\\Local\\Temp\\ipykernel_28364\\3442535950.py:6: FutureWarning: DataFrame.mean and DataFrame.median with numeric_only=None will include datetime64 and datetime64tz columns in a future version.\n",
      "  meanday=df.mean()['TAVG (Degrees Fahrenheit)']\n"
     ]
    },
    {
     "name": "stdout",
     "output_type": "stream",
     "text": [
      " 1951-2022年日均温度  62.34089609151573 \n",
      " 1951-2022年年平均温度的平均值 62.35783603718997 \n",
      " 1951-2022年年平均气温的最大值 68.56756756756756 \n",
      " 1951-2022年年平均气温的方差 3.111066977478422 \n",
      " 正态性检验s，p 0.9156979322433472 0.00013834991841576993\n"
     ]
    }
   ],
   "source": [
    "#problem4.3\n",
    "#陈禹凡讲解题意及思路\n",
    "#将数据Date生成年份列\n",
    "df['year']=pd.to_datetime(df['Date']).dt.year\n",
    "#求1951-2022年日均温度\n",
    "meanday=df.mean()['TAVG (Degrees Fahrenheit)']\n",
    "#求1951-2022年平均温度的平均值\n",
    "meanyday=df.groupby(['year']).mean()['TAVG (Degrees Fahrenheit)'].mean()\n",
    "#求1951-2022年平均气温的最大值\n",
    "maxyday=df.groupby(['year']).mean()['TAVG (Degrees Fahrenheit)'].max()\n",
    "#求1951-2022年平均气温的方差\n",
    "varyday=df.groupby(['year']).mean()['TAVG (Degrees Fahrenheit)'].var()\n",
    "from scipy import stats\n",
    "#进行正态检验\n",
    "s,p=stats.shapiro(df.resample('Y').mean()['TAVG (Degrees Fahrenheit)'])\n",
    "#s为检验统计量，当p大于显著性水平0.5时成立\n",
    "print(' 1951-2022年日均温度 ',meanday,'\\n','1951-2022年年平均温度的平均值',meanyday,'\\n','1951-2022年年平均气温的最大值',maxyday,'\\n','1951-2022年年平均气温的方差',varyday,'\\n','正态性检验s，p',s,p)\n",
    "#1951-2022年日均温度为62.341，1951-2022年年平均温度的平均值为62.358，两者差别不大，说明不同年份温度之间的分布不可能关于均值对称\n",
    "#年平均温度的最高平均气温和平均温度差别较大且方差不小，则不同年份温度波动可能较大\n",
    "#p>0.5，该数据分布不具备正态性"
   ]
  }
 ],
 "metadata": {
  "kernelspec": {
   "display_name": "Python 3 (ipykernel)",
   "language": "python",
   "name": "python3"
  },
  "language_info": {
   "codemirror_mode": {
    "name": "ipython",
    "version": 3
   },
   "file_extension": ".py",
   "mimetype": "text/x-python",
   "name": "python",
   "nbconvert_exporter": "python",
   "pygments_lexer": "ipython3",
   "version": "3.9.12"
  }
 },
 "nbformat": 4,
 "nbformat_minor": 5
}
